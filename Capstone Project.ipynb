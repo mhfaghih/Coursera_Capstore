{
    "cells": [
        {
            "metadata": {},
            "cell_type": "code",
            "source": "import itertools\nimport numpy as np\nimport matplotlib.pyplot as plt\nimport pandas as pd\nfrom sklearn import preprocessing\n%matplotlib inline",
            "execution_count": 1,
            "outputs": []
        },
        {
            "metadata": {},
            "cell_type": "code",
            "source": "df = pd.read_csv('https://s3.us.cloud-object-storage.appdomain.cloud/cf-courses-data/CognitiveClass/DP0701EN/version-2/Data-Collisions.csv')\ndf.head()",
            "execution_count": 2,
            "outputs": [
                {
                    "output_type": "stream",
                    "text": "/opt/conda/envs/Python36/lib/python3.6/site-packages/IPython/core/interactiveshell.py:3020: DtypeWarning: Columns (33) have mixed types. Specify dtype option on import or set low_memory=False.\n  interactivity=interactivity, compiler=compiler, result=result)\n",
                    "name": "stderr"
                },
                {
                    "output_type": "execute_result",
                    "execution_count": 2,
                    "data": {
                        "text/plain": "   SEVERITYCODE           X          Y  OBJECTID  INCKEY  COLDETKEY REPORTNO  \\\n0             2 -122.323148  47.703140         1    1307       1307  3502005   \n1             1 -122.347294  47.647172         2   52200      52200  2607959   \n2             1 -122.334540  47.607871         3   26700      26700  1482393   \n3             1 -122.334803  47.604803         4    1144       1144  3503937   \n4             2 -122.306426  47.545739         5   17700      17700  1807429   \n\n    STATUS      ADDRTYPE   INTKEY  ... ROADCOND                LIGHTCOND  \\\n0  Matched  Intersection  37475.0  ...      Wet                 Daylight   \n1  Matched         Block      NaN  ...      Wet  Dark - Street Lights On   \n2  Matched         Block      NaN  ...      Dry                 Daylight   \n3  Matched         Block      NaN  ...      Dry                 Daylight   \n4  Matched  Intersection  34387.0  ...      Wet                 Daylight   \n\n  PEDROWNOTGRNT  SDOTCOLNUM SPEEDING ST_COLCODE  \\\n0           NaN         NaN      NaN         10   \n1           NaN   6354039.0      NaN         11   \n2           NaN   4323031.0      NaN         32   \n3           NaN         NaN      NaN         23   \n4           NaN   4028032.0      NaN         10   \n\n                                          ST_COLDESC  SEGLANEKEY  \\\n0                                  Entering at angle           0   \n1  From same direction - both going straight - bo...           0   \n2                             One parked--one moving           0   \n3                   From same direction - all others           0   \n4                                  Entering at angle           0   \n\n   CROSSWALKKEY  HITPARKEDCAR  \n0             0             N  \n1             0             N  \n2             0             N  \n3             0             N  \n4             0             N  \n\n[5 rows x 38 columns]",
                        "text/html": "<div>\n<style scoped>\n    .dataframe tbody tr th:only-of-type {\n        vertical-align: middle;\n    }\n\n    .dataframe tbody tr th {\n        vertical-align: top;\n    }\n\n    .dataframe thead th {\n        text-align: right;\n    }\n</style>\n<table border=\"1\" class=\"dataframe\">\n  <thead>\n    <tr style=\"text-align: right;\">\n      <th></th>\n      <th>SEVERITYCODE</th>\n      <th>X</th>\n      <th>Y</th>\n      <th>OBJECTID</th>\n      <th>INCKEY</th>\n      <th>COLDETKEY</th>\n      <th>REPORTNO</th>\n      <th>STATUS</th>\n      <th>ADDRTYPE</th>\n      <th>INTKEY</th>\n      <th>...</th>\n      <th>ROADCOND</th>\n      <th>LIGHTCOND</th>\n      <th>PEDROWNOTGRNT</th>\n      <th>SDOTCOLNUM</th>\n      <th>SPEEDING</th>\n      <th>ST_COLCODE</th>\n      <th>ST_COLDESC</th>\n      <th>SEGLANEKEY</th>\n      <th>CROSSWALKKEY</th>\n      <th>HITPARKEDCAR</th>\n    </tr>\n  </thead>\n  <tbody>\n    <tr>\n      <th>0</th>\n      <td>2</td>\n      <td>-122.323148</td>\n      <td>47.703140</td>\n      <td>1</td>\n      <td>1307</td>\n      <td>1307</td>\n      <td>3502005</td>\n      <td>Matched</td>\n      <td>Intersection</td>\n      <td>37475.0</td>\n      <td>...</td>\n      <td>Wet</td>\n      <td>Daylight</td>\n      <td>NaN</td>\n      <td>NaN</td>\n      <td>NaN</td>\n      <td>10</td>\n      <td>Entering at angle</td>\n      <td>0</td>\n      <td>0</td>\n      <td>N</td>\n    </tr>\n    <tr>\n      <th>1</th>\n      <td>1</td>\n      <td>-122.347294</td>\n      <td>47.647172</td>\n      <td>2</td>\n      <td>52200</td>\n      <td>52200</td>\n      <td>2607959</td>\n      <td>Matched</td>\n      <td>Block</td>\n      <td>NaN</td>\n      <td>...</td>\n      <td>Wet</td>\n      <td>Dark - Street Lights On</td>\n      <td>NaN</td>\n      <td>6354039.0</td>\n      <td>NaN</td>\n      <td>11</td>\n      <td>From same direction - both going straight - bo...</td>\n      <td>0</td>\n      <td>0</td>\n      <td>N</td>\n    </tr>\n    <tr>\n      <th>2</th>\n      <td>1</td>\n      <td>-122.334540</td>\n      <td>47.607871</td>\n      <td>3</td>\n      <td>26700</td>\n      <td>26700</td>\n      <td>1482393</td>\n      <td>Matched</td>\n      <td>Block</td>\n      <td>NaN</td>\n      <td>...</td>\n      <td>Dry</td>\n      <td>Daylight</td>\n      <td>NaN</td>\n      <td>4323031.0</td>\n      <td>NaN</td>\n      <td>32</td>\n      <td>One parked--one moving</td>\n      <td>0</td>\n      <td>0</td>\n      <td>N</td>\n    </tr>\n    <tr>\n      <th>3</th>\n      <td>1</td>\n      <td>-122.334803</td>\n      <td>47.604803</td>\n      <td>4</td>\n      <td>1144</td>\n      <td>1144</td>\n      <td>3503937</td>\n      <td>Matched</td>\n      <td>Block</td>\n      <td>NaN</td>\n      <td>...</td>\n      <td>Dry</td>\n      <td>Daylight</td>\n      <td>NaN</td>\n      <td>NaN</td>\n      <td>NaN</td>\n      <td>23</td>\n      <td>From same direction - all others</td>\n      <td>0</td>\n      <td>0</td>\n      <td>N</td>\n    </tr>\n    <tr>\n      <th>4</th>\n      <td>2</td>\n      <td>-122.306426</td>\n      <td>47.545739</td>\n      <td>5</td>\n      <td>17700</td>\n      <td>17700</td>\n      <td>1807429</td>\n      <td>Matched</td>\n      <td>Intersection</td>\n      <td>34387.0</td>\n      <td>...</td>\n      <td>Wet</td>\n      <td>Daylight</td>\n      <td>NaN</td>\n      <td>4028032.0</td>\n      <td>NaN</td>\n      <td>10</td>\n      <td>Entering at angle</td>\n      <td>0</td>\n      <td>0</td>\n      <td>N</td>\n    </tr>\n  </tbody>\n</table>\n<p>5 rows \u00d7 38 columns</p>\n</div>"
                    },
                    "metadata": {}
                }
            ]
        },
        {
            "metadata": {},
            "cell_type": "code",
            "source": "df.dtypes",
            "execution_count": 3,
            "outputs": [
                {
                    "output_type": "execute_result",
                    "execution_count": 3,
                    "data": {
                        "text/plain": "SEVERITYCODE        int64\nX                 float64\nY                 float64\nOBJECTID            int64\nINCKEY              int64\nCOLDETKEY           int64\nREPORTNO           object\nSTATUS             object\nADDRTYPE           object\nINTKEY            float64\nLOCATION           object\nEXCEPTRSNCODE      object\nEXCEPTRSNDESC      object\nSEVERITYCODE.1      int64\nSEVERITYDESC       object\nCOLLISIONTYPE      object\nPERSONCOUNT         int64\nPEDCOUNT            int64\nPEDCYLCOUNT         int64\nVEHCOUNT            int64\nINCDATE            object\nINCDTTM            object\nJUNCTIONTYPE       object\nSDOT_COLCODE        int64\nSDOT_COLDESC       object\nINATTENTIONIND     object\nUNDERINFL          object\nWEATHER            object\nROADCOND           object\nLIGHTCOND          object\nPEDROWNOTGRNT      object\nSDOTCOLNUM        float64\nSPEEDING           object\nST_COLCODE         object\nST_COLDESC         object\nSEGLANEKEY          int64\nCROSSWALKKEY        int64\nHITPARKEDCAR       object\ndtype: object"
                    },
                    "metadata": {}
                }
            ]
        },
        {
            "metadata": {},
            "cell_type": "code",
            "source": "df.describe()",
            "execution_count": 4,
            "outputs": [
                {
                    "output_type": "execute_result",
                    "execution_count": 4,
                    "data": {
                        "text/plain": "        SEVERITYCODE              X              Y       OBJECTID  \\\ncount  194673.000000  189339.000000  189339.000000  194673.000000   \nmean        1.298901    -122.330518      47.619543  108479.364930   \nstd         0.457778       0.029976       0.056157   62649.722558   \nmin         1.000000    -122.419091      47.495573       1.000000   \n25%         1.000000    -122.348673      47.575956   54267.000000   \n50%         1.000000    -122.330224      47.615369  106912.000000   \n75%         2.000000    -122.311937      47.663664  162272.000000   \nmax         2.000000    -122.238949      47.734142  219547.000000   \n\n              INCKEY      COLDETKEY         INTKEY  SEVERITYCODE.1  \\\ncount  194673.000000  194673.000000   65070.000000   194673.000000   \nmean   141091.456350  141298.811381   37558.450576        1.298901   \nstd     86634.402737   86986.542110   51745.990273        0.457778   \nmin      1001.000000    1001.000000   23807.000000        1.000000   \n25%     70383.000000   70383.000000   28667.000000        1.000000   \n50%    123363.000000  123363.000000   29973.000000        1.000000   \n75%    203319.000000  203459.000000   33973.000000        2.000000   \nmax    331454.000000  332954.000000  757580.000000        2.000000   \n\n         PERSONCOUNT       PEDCOUNT    PEDCYLCOUNT       VEHCOUNT  \\\ncount  194673.000000  194673.000000  194673.000000  194673.000000   \nmean        2.444427       0.037139       0.028391       1.920780   \nstd         1.345929       0.198150       0.167413       0.631047   \nmin         0.000000       0.000000       0.000000       0.000000   \n25%         2.000000       0.000000       0.000000       2.000000   \n50%         2.000000       0.000000       0.000000       2.000000   \n75%         3.000000       0.000000       0.000000       2.000000   \nmax        81.000000       6.000000       2.000000      12.000000   \n\n        SDOT_COLCODE    SDOTCOLNUM     SEGLANEKEY  CROSSWALKKEY  \ncount  194673.000000  1.149360e+05  194673.000000  1.946730e+05  \nmean       13.867768  7.972521e+06     269.401114  9.782452e+03  \nstd         6.868755  2.553533e+06    3315.776055  7.226926e+04  \nmin         0.000000  1.007024e+06       0.000000  0.000000e+00  \n25%        11.000000  6.040015e+06       0.000000  0.000000e+00  \n50%        13.000000  8.023022e+06       0.000000  0.000000e+00  \n75%        14.000000  1.015501e+07       0.000000  0.000000e+00  \nmax        69.000000  1.307202e+07  525241.000000  5.239700e+06  ",
                        "text/html": "<div>\n<style scoped>\n    .dataframe tbody tr th:only-of-type {\n        vertical-align: middle;\n    }\n\n    .dataframe tbody tr th {\n        vertical-align: top;\n    }\n\n    .dataframe thead th {\n        text-align: right;\n    }\n</style>\n<table border=\"1\" class=\"dataframe\">\n  <thead>\n    <tr style=\"text-align: right;\">\n      <th></th>\n      <th>SEVERITYCODE</th>\n      <th>X</th>\n      <th>Y</th>\n      <th>OBJECTID</th>\n      <th>INCKEY</th>\n      <th>COLDETKEY</th>\n      <th>INTKEY</th>\n      <th>SEVERITYCODE.1</th>\n      <th>PERSONCOUNT</th>\n      <th>PEDCOUNT</th>\n      <th>PEDCYLCOUNT</th>\n      <th>VEHCOUNT</th>\n      <th>SDOT_COLCODE</th>\n      <th>SDOTCOLNUM</th>\n      <th>SEGLANEKEY</th>\n      <th>CROSSWALKKEY</th>\n    </tr>\n  </thead>\n  <tbody>\n    <tr>\n      <th>count</th>\n      <td>194673.000000</td>\n      <td>189339.000000</td>\n      <td>189339.000000</td>\n      <td>194673.000000</td>\n      <td>194673.000000</td>\n      <td>194673.000000</td>\n      <td>65070.000000</td>\n      <td>194673.000000</td>\n      <td>194673.000000</td>\n      <td>194673.000000</td>\n      <td>194673.000000</td>\n      <td>194673.000000</td>\n      <td>194673.000000</td>\n      <td>1.149360e+05</td>\n      <td>194673.000000</td>\n      <td>1.946730e+05</td>\n    </tr>\n    <tr>\n      <th>mean</th>\n      <td>1.298901</td>\n      <td>-122.330518</td>\n      <td>47.619543</td>\n      <td>108479.364930</td>\n      <td>141091.456350</td>\n      <td>141298.811381</td>\n      <td>37558.450576</td>\n      <td>1.298901</td>\n      <td>2.444427</td>\n      <td>0.037139</td>\n      <td>0.028391</td>\n      <td>1.920780</td>\n      <td>13.867768</td>\n      <td>7.972521e+06</td>\n      <td>269.401114</td>\n      <td>9.782452e+03</td>\n    </tr>\n    <tr>\n      <th>std</th>\n      <td>0.457778</td>\n      <td>0.029976</td>\n      <td>0.056157</td>\n      <td>62649.722558</td>\n      <td>86634.402737</td>\n      <td>86986.542110</td>\n      <td>51745.990273</td>\n      <td>0.457778</td>\n      <td>1.345929</td>\n      <td>0.198150</td>\n      <td>0.167413</td>\n      <td>0.631047</td>\n      <td>6.868755</td>\n      <td>2.553533e+06</td>\n      <td>3315.776055</td>\n      <td>7.226926e+04</td>\n    </tr>\n    <tr>\n      <th>min</th>\n      <td>1.000000</td>\n      <td>-122.419091</td>\n      <td>47.495573</td>\n      <td>1.000000</td>\n      <td>1001.000000</td>\n      <td>1001.000000</td>\n      <td>23807.000000</td>\n      <td>1.000000</td>\n      <td>0.000000</td>\n      <td>0.000000</td>\n      <td>0.000000</td>\n      <td>0.000000</td>\n      <td>0.000000</td>\n      <td>1.007024e+06</td>\n      <td>0.000000</td>\n      <td>0.000000e+00</td>\n    </tr>\n    <tr>\n      <th>25%</th>\n      <td>1.000000</td>\n      <td>-122.348673</td>\n      <td>47.575956</td>\n      <td>54267.000000</td>\n      <td>70383.000000</td>\n      <td>70383.000000</td>\n      <td>28667.000000</td>\n      <td>1.000000</td>\n      <td>2.000000</td>\n      <td>0.000000</td>\n      <td>0.000000</td>\n      <td>2.000000</td>\n      <td>11.000000</td>\n      <td>6.040015e+06</td>\n      <td>0.000000</td>\n      <td>0.000000e+00</td>\n    </tr>\n    <tr>\n      <th>50%</th>\n      <td>1.000000</td>\n      <td>-122.330224</td>\n      <td>47.615369</td>\n      <td>106912.000000</td>\n      <td>123363.000000</td>\n      <td>123363.000000</td>\n      <td>29973.000000</td>\n      <td>1.000000</td>\n      <td>2.000000</td>\n      <td>0.000000</td>\n      <td>0.000000</td>\n      <td>2.000000</td>\n      <td>13.000000</td>\n      <td>8.023022e+06</td>\n      <td>0.000000</td>\n      <td>0.000000e+00</td>\n    </tr>\n    <tr>\n      <th>75%</th>\n      <td>2.000000</td>\n      <td>-122.311937</td>\n      <td>47.663664</td>\n      <td>162272.000000</td>\n      <td>203319.000000</td>\n      <td>203459.000000</td>\n      <td>33973.000000</td>\n      <td>2.000000</td>\n      <td>3.000000</td>\n      <td>0.000000</td>\n      <td>0.000000</td>\n      <td>2.000000</td>\n      <td>14.000000</td>\n      <td>1.015501e+07</td>\n      <td>0.000000</td>\n      <td>0.000000e+00</td>\n    </tr>\n    <tr>\n      <th>max</th>\n      <td>2.000000</td>\n      <td>-122.238949</td>\n      <td>47.734142</td>\n      <td>219547.000000</td>\n      <td>331454.000000</td>\n      <td>332954.000000</td>\n      <td>757580.000000</td>\n      <td>2.000000</td>\n      <td>81.000000</td>\n      <td>6.000000</td>\n      <td>2.000000</td>\n      <td>12.000000</td>\n      <td>69.000000</td>\n      <td>1.307202e+07</td>\n      <td>525241.000000</td>\n      <td>5.239700e+06</td>\n    </tr>\n  </tbody>\n</table>\n</div>"
                    },
                    "metadata": {}
                }
            ]
        },
        {
            "metadata": {},
            "cell_type": "code",
            "source": "dfw= df[['SEVERITYCODE','WEATHER', 'ADDRTYPE', 'ROADCOND','LIGHTCOND','SPEEDING','INATTENTIONIND','UNDERINFL']]\n#dfw[['SEVERITYCODE']].dropna(inplace=True)\n\n#Encoding in attention (0 = No, 1 = Yes)\ndfw['INATTENTIONIND'].replace(to_replace=['Y',np.nan], value=[1,0],inplace=True)\n\n\n#Encoding Under the influence (0 = No, 1 = Yes)\ndfw['UNDERINFL'].replace(to_replace=['N','Y','0','1'], value=[0,1,0,1],inplace=True)\n\n\n#Encoding Speeding(0 = No, 1 = Yes)\ndfw['SPEEDING'].replace(to_replace=[np.nan,'Y'], value=[0,1],inplace=True)\n\n#Encoding Address Type(0 = No, 1 = Yes)\ndfw['ADDRTYPE'].replace(to_replace=['Intersection','Block', 'Alley'], value=[2,1,0],inplace=True)\n\n#Encoding Light Conditions(0 = Light, 1 = Medium, 2 = Dark)\ndfw['LIGHTCOND'].replace(to_replace=[\"Daylight\",\"Dark - Street Lights On\",\"Dark - No Street Lights\",\"Dusk\", \"Dawn\", \n                                     \"Dark - Street Lights Off\", \"Dark - Unknown Lighting\", \"Other\", \"Unknown\"], \n                         value=[0,1,2,1,1,2,2,np.nan, np.nan],inplace=True)\n\n\n#Encoding Weather Conditions(0 = Clear, 1 = Cloudy, 2 = Windy, 3 = Rain and Snow\ndfw['WEATHER'].replace(to_replace=[\"Clear\",\"Raining\",\"Overcast\",\"Snowing\",\"Fog/Smog/Smoke\",\"Sleet/Hail/Freezing Rain\",\n                                   \"Blowing Sand/Dirt\",\"Severe Crosswind\",\"Partly Cloudy\",\"Other\", \"Unknown\"], \n                       value=[0,3,1,3,2,3,2,2,1,np.nan, np.nan],inplace=True)\n\n\n#Encoding Road Conditions(0 = Dry, 1 = Dirty, 2 = Wet, 3 = Ice)\ndfw['ROADCOND'].replace(to_replace=[\"Dry\",\"Wet\",\"Ice\",\"Snow/Slush\",\"Other\",\"Standing Water\",\"Sand/Mud/Dirt\", \"Oil\", \"Unknown\"], \n                     value=[0,2,3,2,np.nan,2,1,1, np.nan],inplace=True)\n\ndfw",
            "execution_count": 5,
            "outputs": [
                {
                    "output_type": "stream",
                    "text": "/opt/conda/envs/Python36/lib/python3.6/site-packages/pandas/core/generic.py:6586: SettingWithCopyWarning: \nA value is trying to be set on a copy of a slice from a DataFrame\n\nSee the caveats in the documentation: http://pandas.pydata.org/pandas-docs/stable/indexing.html#indexing-view-versus-copy\n  self._update_inplace(new_data)\n",
                    "name": "stderr"
                },
                {
                    "output_type": "execute_result",
                    "execution_count": 5,
                    "data": {
                        "text/plain": "        SEVERITYCODE  WEATHER  ADDRTYPE  ROADCOND  LIGHTCOND  SPEEDING  \\\n0                  2      1.0       2.0       2.0        0.0         0   \n1                  1      3.0       1.0       2.0        1.0         0   \n2                  1      1.0       1.0       0.0        0.0         0   \n3                  1      0.0       1.0       0.0        0.0         0   \n4                  2      3.0       2.0       2.0        0.0         0   \n5                  1      0.0       2.0       0.0        0.0         0   \n6                  1      3.0       2.0       2.0        0.0         0   \n7                  2      0.0       2.0       0.0        0.0         0   \n8                  1      0.0       1.0       0.0        0.0         0   \n9                  2      0.0       2.0       0.0        0.0         0   \n10                 1      1.0       0.0       0.0        0.0         0   \n11                 1      0.0       2.0       0.0        0.0         0   \n12                 1      3.0       1.0       2.0        1.0         0   \n13                 1      3.0       1.0       2.0        2.0         0   \n14                 2      0.0       1.0       0.0        1.0         0   \n15                 1      NaN       1.0       NaN        NaN         0   \n16                 2      1.0       2.0       0.0        0.0         0   \n17                 1      1.0       1.0       0.0        0.0         0   \n18                 2      0.0       1.0       0.0        0.0         0   \n19                 1      NaN       1.0       0.0        NaN         0   \n20                 2      0.0       1.0       0.0        1.0         0   \n21                 2      0.0       2.0       0.0        0.0         0   \n22                 1      0.0       1.0       0.0        1.0         0   \n23                 1      NaN       1.0       NaN        NaN         0   \n24                 2      0.0       2.0       0.0        0.0         1   \n25                 2      0.0       1.0       0.0        0.0         0   \n26                 1      1.0       2.0       2.0        NaN         0   \n27                 1      0.0       1.0       0.0        0.0         0   \n28                 1      0.0       1.0       0.0        0.0         0   \n29                 1      0.0       1.0       0.0        0.0         0   \n...              ...      ...       ...       ...        ...       ...   \n194643             1      0.0       1.0       0.0        1.0         0   \n194644             1      0.0       2.0       0.0        1.0         0   \n194645             2      0.0       2.0       0.0        1.0         0   \n194646             1      NaN       1.0       NaN        NaN         0   \n194647             2      3.0       1.0       2.0        1.0         0   \n194648             1      3.0       1.0       2.0        1.0         0   \n194649             2      0.0       2.0       0.0        1.0         0   \n194650             2      0.0       1.0       0.0        0.0         0   \n194651             1      0.0       2.0       2.0        1.0         0   \n194652             1      1.0       1.0       2.0        1.0         0   \n194653             2      1.0       1.0       2.0        1.0         0   \n194654             1      NaN       2.0       NaN        NaN         0   \n194655             2      NaN       2.0       NaN        NaN         0   \n194656             2      0.0       2.0       0.0        0.0         0   \n194657             1      3.0       1.0       2.0        1.0         0   \n194658             1      3.0       1.0       2.0        1.0         0   \n194659             1      3.0       1.0       2.0        1.0         0   \n194660             2      3.0       1.0       2.0        NaN         0   \n194661             2      0.0       1.0       0.0        0.0         0   \n194662             1      0.0       1.0       0.0        1.0         0   \n194663             2      3.0       1.0       2.0        0.0         0   \n194664             1      0.0       2.0       0.0        0.0         0   \n194665             1      0.0       2.0       0.0        0.0         0   \n194666             2      0.0       1.0       2.0        0.0         0   \n194667             1      3.0       1.0       2.0        1.0         0   \n194668             2      0.0       1.0       0.0        0.0         0   \n194669             1      3.0       1.0       2.0        0.0         0   \n194670             2      0.0       2.0       0.0        0.0         0   \n194671             2      0.0       2.0       0.0        1.0         0   \n194672             1      0.0       1.0       2.0        0.0         0   \n\n        INATTENTIONIND  UNDERINFL  \n0                    0        0.0  \n1                    0        0.0  \n2                    0        0.0  \n3                    0        0.0  \n4                    0        0.0  \n5                    0        0.0  \n6                    0        0.0  \n7                    0        0.0  \n8                    0        0.0  \n9                    0        0.0  \n10                   0        0.0  \n11                   0        0.0  \n12                   0        0.0  \n13                   0        0.0  \n14                   0        0.0  \n15                   0        NaN  \n16                   0        0.0  \n17                   0        0.0  \n18                   0        0.0  \n19                   0        0.0  \n20                   0        0.0  \n21                   0        0.0  \n22                   1        0.0  \n23                   0        0.0  \n24                   0        0.0  \n25                   1        0.0  \n26                   0        0.0  \n27                   0        0.0  \n28                   0        0.0  \n29                   0        0.0  \n...                ...        ...  \n194643               0        0.0  \n194644               0        0.0  \n194645               0        0.0  \n194646               0        NaN  \n194647               1        0.0  \n194648               0        1.0  \n194649               0        0.0  \n194650               0        0.0  \n194651               0        0.0  \n194652               1        0.0  \n194653               0        1.0  \n194654               0        NaN  \n194655               0        NaN  \n194656               0        0.0  \n194657               0        0.0  \n194658               0        0.0  \n194659               0        0.0  \n194660               0        0.0  \n194661               0        1.0  \n194662               0        0.0  \n194663               1        0.0  \n194664               0        0.0  \n194665               0        0.0  \n194666               0        0.0  \n194667               0        1.0  \n194668               0        0.0  \n194669               1        0.0  \n194670               0        0.0  \n194671               0        0.0  \n194672               0        0.0  \n\n[194673 rows x 8 columns]",
                        "text/html": "<div>\n<style scoped>\n    .dataframe tbody tr th:only-of-type {\n        vertical-align: middle;\n    }\n\n    .dataframe tbody tr th {\n        vertical-align: top;\n    }\n\n    .dataframe thead th {\n        text-align: right;\n    }\n</style>\n<table border=\"1\" class=\"dataframe\">\n  <thead>\n    <tr style=\"text-align: right;\">\n      <th></th>\n      <th>SEVERITYCODE</th>\n      <th>WEATHER</th>\n      <th>ADDRTYPE</th>\n      <th>ROADCOND</th>\n      <th>LIGHTCOND</th>\n      <th>SPEEDING</th>\n      <th>INATTENTIONIND</th>\n      <th>UNDERINFL</th>\n    </tr>\n  </thead>\n  <tbody>\n    <tr>\n      <th>0</th>\n      <td>2</td>\n      <td>1.0</td>\n      <td>2.0</td>\n      <td>2.0</td>\n      <td>0.0</td>\n      <td>0</td>\n      <td>0</td>\n      <td>0.0</td>\n    </tr>\n    <tr>\n      <th>1</th>\n      <td>1</td>\n      <td>3.0</td>\n      <td>1.0</td>\n      <td>2.0</td>\n      <td>1.0</td>\n      <td>0</td>\n      <td>0</td>\n      <td>0.0</td>\n    </tr>\n    <tr>\n      <th>2</th>\n      <td>1</td>\n      <td>1.0</td>\n      <td>1.0</td>\n      <td>0.0</td>\n      <td>0.0</td>\n      <td>0</td>\n      <td>0</td>\n      <td>0.0</td>\n    </tr>\n    <tr>\n      <th>3</th>\n      <td>1</td>\n      <td>0.0</td>\n      <td>1.0</td>\n      <td>0.0</td>\n      <td>0.0</td>\n      <td>0</td>\n      <td>0</td>\n      <td>0.0</td>\n    </tr>\n    <tr>\n      <th>4</th>\n      <td>2</td>\n      <td>3.0</td>\n      <td>2.0</td>\n      <td>2.0</td>\n      <td>0.0</td>\n      <td>0</td>\n      <td>0</td>\n      <td>0.0</td>\n    </tr>\n    <tr>\n      <th>5</th>\n      <td>1</td>\n      <td>0.0</td>\n      <td>2.0</td>\n      <td>0.0</td>\n      <td>0.0</td>\n      <td>0</td>\n      <td>0</td>\n      <td>0.0</td>\n    </tr>\n    <tr>\n      <th>6</th>\n      <td>1</td>\n      <td>3.0</td>\n      <td>2.0</td>\n      <td>2.0</td>\n      <td>0.0</td>\n      <td>0</td>\n      <td>0</td>\n      <td>0.0</td>\n    </tr>\n    <tr>\n      <th>7</th>\n      <td>2</td>\n      <td>0.0</td>\n      <td>2.0</td>\n      <td>0.0</td>\n      <td>0.0</td>\n      <td>0</td>\n      <td>0</td>\n      <td>0.0</td>\n    </tr>\n    <tr>\n      <th>8</th>\n      <td>1</td>\n      <td>0.0</td>\n      <td>1.0</td>\n      <td>0.0</td>\n      <td>0.0</td>\n      <td>0</td>\n      <td>0</td>\n      <td>0.0</td>\n    </tr>\n    <tr>\n      <th>9</th>\n      <td>2</td>\n      <td>0.0</td>\n      <td>2.0</td>\n      <td>0.0</td>\n      <td>0.0</td>\n      <td>0</td>\n      <td>0</td>\n      <td>0.0</td>\n    </tr>\n    <tr>\n      <th>10</th>\n      <td>1</td>\n      <td>1.0</td>\n      <td>0.0</td>\n      <td>0.0</td>\n      <td>0.0</td>\n      <td>0</td>\n      <td>0</td>\n      <td>0.0</td>\n    </tr>\n    <tr>\n      <th>11</th>\n      <td>1</td>\n      <td>0.0</td>\n      <td>2.0</td>\n      <td>0.0</td>\n      <td>0.0</td>\n      <td>0</td>\n      <td>0</td>\n      <td>0.0</td>\n    </tr>\n    <tr>\n      <th>12</th>\n      <td>1</td>\n      <td>3.0</td>\n      <td>1.0</td>\n      <td>2.0</td>\n      <td>1.0</td>\n      <td>0</td>\n      <td>0</td>\n      <td>0.0</td>\n    </tr>\n    <tr>\n      <th>13</th>\n      <td>1</td>\n      <td>3.0</td>\n      <td>1.0</td>\n      <td>2.0</td>\n      <td>2.0</td>\n      <td>0</td>\n      <td>0</td>\n      <td>0.0</td>\n    </tr>\n    <tr>\n      <th>14</th>\n      <td>2</td>\n      <td>0.0</td>\n      <td>1.0</td>\n      <td>0.0</td>\n      <td>1.0</td>\n      <td>0</td>\n      <td>0</td>\n      <td>0.0</td>\n    </tr>\n    <tr>\n      <th>15</th>\n      <td>1</td>\n      <td>NaN</td>\n      <td>1.0</td>\n      <td>NaN</td>\n      <td>NaN</td>\n      <td>0</td>\n      <td>0</td>\n      <td>NaN</td>\n    </tr>\n    <tr>\n      <th>16</th>\n      <td>2</td>\n      <td>1.0</td>\n      <td>2.0</td>\n      <td>0.0</td>\n      <td>0.0</td>\n      <td>0</td>\n      <td>0</td>\n      <td>0.0</td>\n    </tr>\n    <tr>\n      <th>17</th>\n      <td>1</td>\n      <td>1.0</td>\n      <td>1.0</td>\n      <td>0.0</td>\n      <td>0.0</td>\n      <td>0</td>\n      <td>0</td>\n      <td>0.0</td>\n    </tr>\n    <tr>\n      <th>18</th>\n      <td>2</td>\n      <td>0.0</td>\n      <td>1.0</td>\n      <td>0.0</td>\n      <td>0.0</td>\n      <td>0</td>\n      <td>0</td>\n      <td>0.0</td>\n    </tr>\n    <tr>\n      <th>19</th>\n      <td>1</td>\n      <td>NaN</td>\n      <td>1.0</td>\n      <td>0.0</td>\n      <td>NaN</td>\n      <td>0</td>\n      <td>0</td>\n      <td>0.0</td>\n    </tr>\n    <tr>\n      <th>20</th>\n      <td>2</td>\n      <td>0.0</td>\n      <td>1.0</td>\n      <td>0.0</td>\n      <td>1.0</td>\n      <td>0</td>\n      <td>0</td>\n      <td>0.0</td>\n    </tr>\n    <tr>\n      <th>21</th>\n      <td>2</td>\n      <td>0.0</td>\n      <td>2.0</td>\n      <td>0.0</td>\n      <td>0.0</td>\n      <td>0</td>\n      <td>0</td>\n      <td>0.0</td>\n    </tr>\n    <tr>\n      <th>22</th>\n      <td>1</td>\n      <td>0.0</td>\n      <td>1.0</td>\n      <td>0.0</td>\n      <td>1.0</td>\n      <td>0</td>\n      <td>1</td>\n      <td>0.0</td>\n    </tr>\n    <tr>\n      <th>23</th>\n      <td>1</td>\n      <td>NaN</td>\n      <td>1.0</td>\n      <td>NaN</td>\n      <td>NaN</td>\n      <td>0</td>\n      <td>0</td>\n      <td>0.0</td>\n    </tr>\n    <tr>\n      <th>24</th>\n      <td>2</td>\n      <td>0.0</td>\n      <td>2.0</td>\n      <td>0.0</td>\n      <td>0.0</td>\n      <td>1</td>\n      <td>0</td>\n      <td>0.0</td>\n    </tr>\n    <tr>\n      <th>25</th>\n      <td>2</td>\n      <td>0.0</td>\n      <td>1.0</td>\n      <td>0.0</td>\n      <td>0.0</td>\n      <td>0</td>\n      <td>1</td>\n      <td>0.0</td>\n    </tr>\n    <tr>\n      <th>26</th>\n      <td>1</td>\n      <td>1.0</td>\n      <td>2.0</td>\n      <td>2.0</td>\n      <td>NaN</td>\n      <td>0</td>\n      <td>0</td>\n      <td>0.0</td>\n    </tr>\n    <tr>\n      <th>27</th>\n      <td>1</td>\n      <td>0.0</td>\n      <td>1.0</td>\n      <td>0.0</td>\n      <td>0.0</td>\n      <td>0</td>\n      <td>0</td>\n      <td>0.0</td>\n    </tr>\n    <tr>\n      <th>28</th>\n      <td>1</td>\n      <td>0.0</td>\n      <td>1.0</td>\n      <td>0.0</td>\n      <td>0.0</td>\n      <td>0</td>\n      <td>0</td>\n      <td>0.0</td>\n    </tr>\n    <tr>\n      <th>29</th>\n      <td>1</td>\n      <td>0.0</td>\n      <td>1.0</td>\n      <td>0.0</td>\n      <td>0.0</td>\n      <td>0</td>\n      <td>0</td>\n      <td>0.0</td>\n    </tr>\n    <tr>\n      <th>...</th>\n      <td>...</td>\n      <td>...</td>\n      <td>...</td>\n      <td>...</td>\n      <td>...</td>\n      <td>...</td>\n      <td>...</td>\n      <td>...</td>\n    </tr>\n    <tr>\n      <th>194643</th>\n      <td>1</td>\n      <td>0.0</td>\n      <td>1.0</td>\n      <td>0.0</td>\n      <td>1.0</td>\n      <td>0</td>\n      <td>0</td>\n      <td>0.0</td>\n    </tr>\n    <tr>\n      <th>194644</th>\n      <td>1</td>\n      <td>0.0</td>\n      <td>2.0</td>\n      <td>0.0</td>\n      <td>1.0</td>\n      <td>0</td>\n      <td>0</td>\n      <td>0.0</td>\n    </tr>\n    <tr>\n      <th>194645</th>\n      <td>2</td>\n      <td>0.0</td>\n      <td>2.0</td>\n      <td>0.0</td>\n      <td>1.0</td>\n      <td>0</td>\n      <td>0</td>\n      <td>0.0</td>\n    </tr>\n    <tr>\n      <th>194646</th>\n      <td>1</td>\n      <td>NaN</td>\n      <td>1.0</td>\n      <td>NaN</td>\n      <td>NaN</td>\n      <td>0</td>\n      <td>0</td>\n      <td>NaN</td>\n    </tr>\n    <tr>\n      <th>194647</th>\n      <td>2</td>\n      <td>3.0</td>\n      <td>1.0</td>\n      <td>2.0</td>\n      <td>1.0</td>\n      <td>0</td>\n      <td>1</td>\n      <td>0.0</td>\n    </tr>\n    <tr>\n      <th>194648</th>\n      <td>1</td>\n      <td>3.0</td>\n      <td>1.0</td>\n      <td>2.0</td>\n      <td>1.0</td>\n      <td>0</td>\n      <td>0</td>\n      <td>1.0</td>\n    </tr>\n    <tr>\n      <th>194649</th>\n      <td>2</td>\n      <td>0.0</td>\n      <td>2.0</td>\n      <td>0.0</td>\n      <td>1.0</td>\n      <td>0</td>\n      <td>0</td>\n      <td>0.0</td>\n    </tr>\n    <tr>\n      <th>194650</th>\n      <td>2</td>\n      <td>0.0</td>\n      <td>1.0</td>\n      <td>0.0</td>\n      <td>0.0</td>\n      <td>0</td>\n      <td>0</td>\n      <td>0.0</td>\n    </tr>\n    <tr>\n      <th>194651</th>\n      <td>1</td>\n      <td>0.0</td>\n      <td>2.0</td>\n      <td>2.0</td>\n      <td>1.0</td>\n      <td>0</td>\n      <td>0</td>\n      <td>0.0</td>\n    </tr>\n    <tr>\n      <th>194652</th>\n      <td>1</td>\n      <td>1.0</td>\n      <td>1.0</td>\n      <td>2.0</td>\n      <td>1.0</td>\n      <td>0</td>\n      <td>1</td>\n      <td>0.0</td>\n    </tr>\n    <tr>\n      <th>194653</th>\n      <td>2</td>\n      <td>1.0</td>\n      <td>1.0</td>\n      <td>2.0</td>\n      <td>1.0</td>\n      <td>0</td>\n      <td>0</td>\n      <td>1.0</td>\n    </tr>\n    <tr>\n      <th>194654</th>\n      <td>1</td>\n      <td>NaN</td>\n      <td>2.0</td>\n      <td>NaN</td>\n      <td>NaN</td>\n      <td>0</td>\n      <td>0</td>\n      <td>NaN</td>\n    </tr>\n    <tr>\n      <th>194655</th>\n      <td>2</td>\n      <td>NaN</td>\n      <td>2.0</td>\n      <td>NaN</td>\n      <td>NaN</td>\n      <td>0</td>\n      <td>0</td>\n      <td>NaN</td>\n    </tr>\n    <tr>\n      <th>194656</th>\n      <td>2</td>\n      <td>0.0</td>\n      <td>2.0</td>\n      <td>0.0</td>\n      <td>0.0</td>\n      <td>0</td>\n      <td>0</td>\n      <td>0.0</td>\n    </tr>\n    <tr>\n      <th>194657</th>\n      <td>1</td>\n      <td>3.0</td>\n      <td>1.0</td>\n      <td>2.0</td>\n      <td>1.0</td>\n      <td>0</td>\n      <td>0</td>\n      <td>0.0</td>\n    </tr>\n    <tr>\n      <th>194658</th>\n      <td>1</td>\n      <td>3.0</td>\n      <td>1.0</td>\n      <td>2.0</td>\n      <td>1.0</td>\n      <td>0</td>\n      <td>0</td>\n      <td>0.0</td>\n    </tr>\n    <tr>\n      <th>194659</th>\n      <td>1</td>\n      <td>3.0</td>\n      <td>1.0</td>\n      <td>2.0</td>\n      <td>1.0</td>\n      <td>0</td>\n      <td>0</td>\n      <td>0.0</td>\n    </tr>\n    <tr>\n      <th>194660</th>\n      <td>2</td>\n      <td>3.0</td>\n      <td>1.0</td>\n      <td>2.0</td>\n      <td>NaN</td>\n      <td>0</td>\n      <td>0</td>\n      <td>0.0</td>\n    </tr>\n    <tr>\n      <th>194661</th>\n      <td>2</td>\n      <td>0.0</td>\n      <td>1.0</td>\n      <td>0.0</td>\n      <td>0.0</td>\n      <td>0</td>\n      <td>0</td>\n      <td>1.0</td>\n    </tr>\n    <tr>\n      <th>194662</th>\n      <td>1</td>\n      <td>0.0</td>\n      <td>1.0</td>\n      <td>0.0</td>\n      <td>1.0</td>\n      <td>0</td>\n      <td>0</td>\n      <td>0.0</td>\n    </tr>\n    <tr>\n      <th>194663</th>\n      <td>2</td>\n      <td>3.0</td>\n      <td>1.0</td>\n      <td>2.0</td>\n      <td>0.0</td>\n      <td>0</td>\n      <td>1</td>\n      <td>0.0</td>\n    </tr>\n    <tr>\n      <th>194664</th>\n      <td>1</td>\n      <td>0.0</td>\n      <td>2.0</td>\n      <td>0.0</td>\n      <td>0.0</td>\n      <td>0</td>\n      <td>0</td>\n      <td>0.0</td>\n    </tr>\n    <tr>\n      <th>194665</th>\n      <td>1</td>\n      <td>0.0</td>\n      <td>2.0</td>\n      <td>0.0</td>\n      <td>0.0</td>\n      <td>0</td>\n      <td>0</td>\n      <td>0.0</td>\n    </tr>\n    <tr>\n      <th>194666</th>\n      <td>2</td>\n      <td>0.0</td>\n      <td>1.0</td>\n      <td>2.0</td>\n      <td>0.0</td>\n      <td>0</td>\n      <td>0</td>\n      <td>0.0</td>\n    </tr>\n    <tr>\n      <th>194667</th>\n      <td>1</td>\n      <td>3.0</td>\n      <td>1.0</td>\n      <td>2.0</td>\n      <td>1.0</td>\n      <td>0</td>\n      <td>0</td>\n      <td>1.0</td>\n    </tr>\n    <tr>\n      <th>194668</th>\n      <td>2</td>\n      <td>0.0</td>\n      <td>1.0</td>\n      <td>0.0</td>\n      <td>0.0</td>\n      <td>0</td>\n      <td>0</td>\n      <td>0.0</td>\n    </tr>\n    <tr>\n      <th>194669</th>\n      <td>1</td>\n      <td>3.0</td>\n      <td>1.0</td>\n      <td>2.0</td>\n      <td>0.0</td>\n      <td>0</td>\n      <td>1</td>\n      <td>0.0</td>\n    </tr>\n    <tr>\n      <th>194670</th>\n      <td>2</td>\n      <td>0.0</td>\n      <td>2.0</td>\n      <td>0.0</td>\n      <td>0.0</td>\n      <td>0</td>\n      <td>0</td>\n      <td>0.0</td>\n    </tr>\n    <tr>\n      <th>194671</th>\n      <td>2</td>\n      <td>0.0</td>\n      <td>2.0</td>\n      <td>0.0</td>\n      <td>1.0</td>\n      <td>0</td>\n      <td>0</td>\n      <td>0.0</td>\n    </tr>\n    <tr>\n      <th>194672</th>\n      <td>1</td>\n      <td>0.0</td>\n      <td>1.0</td>\n      <td>2.0</td>\n      <td>0.0</td>\n      <td>0</td>\n      <td>0</td>\n      <td>0.0</td>\n    </tr>\n  </tbody>\n</table>\n<p>194673 rows \u00d7 8 columns</p>\n</div>"
                    },
                    "metadata": {}
                }
            ]
        },
        {
            "metadata": {},
            "cell_type": "code",
            "source": "dfw = dfw.fillna(dfw.median())\n#dfw.describe()\ndfw.corr()",
            "execution_count": 22,
            "outputs": [
                {
                    "output_type": "execute_result",
                    "execution_count": 22,
                    "data": {
                        "text/plain": "                SEVERITYCODE   WEATHER  ADDRTYPE  ROADCOND  LIGHTCOND  \\\nSEVERITYCODE        1.000000  0.039505  0.199619  0.032846  -0.002306   \nWEATHER             0.039505  1.000000  0.044347  0.801087   0.184243   \nADDRTYPE            0.199619  0.044347  1.000000  0.036711  -0.008643   \nROADCOND            0.032846  0.801087  0.036711  1.000000   0.193327   \nLIGHTCOND          -0.002306  0.184243 -0.008643  0.193327   1.000000   \nSPEEDING            0.038938  0.123741 -0.058017  0.149233   0.093711   \nINATTENTIONIND      0.046378 -0.007697 -0.073325 -0.013966  -0.036393   \nUNDERINFL           0.044377  0.018167 -0.041532  0.021140   0.220734   \n\n                SPEEDING  INATTENTIONIND  UNDERINFL  \nSEVERITYCODE    0.038938        0.046378   0.044377  \nWEATHER         0.123741       -0.007697   0.018167  \nADDRTYPE       -0.058017       -0.073325  -0.041532  \nROADCOND        0.149233       -0.013966   0.021140  \nLIGHTCOND       0.093711       -0.036393   0.220734  \nSPEEDING        1.000000       -0.048805   0.092356  \nINATTENTIONIND -0.048805        1.000000  -0.025953  \nUNDERINFL       0.092356       -0.025953   1.000000  ",
                        "text/html": "<div>\n<style scoped>\n    .dataframe tbody tr th:only-of-type {\n        vertical-align: middle;\n    }\n\n    .dataframe tbody tr th {\n        vertical-align: top;\n    }\n\n    .dataframe thead th {\n        text-align: right;\n    }\n</style>\n<table border=\"1\" class=\"dataframe\">\n  <thead>\n    <tr style=\"text-align: right;\">\n      <th></th>\n      <th>SEVERITYCODE</th>\n      <th>WEATHER</th>\n      <th>ADDRTYPE</th>\n      <th>ROADCOND</th>\n      <th>LIGHTCOND</th>\n      <th>SPEEDING</th>\n      <th>INATTENTIONIND</th>\n      <th>UNDERINFL</th>\n    </tr>\n  </thead>\n  <tbody>\n    <tr>\n      <th>SEVERITYCODE</th>\n      <td>1.000000</td>\n      <td>0.039505</td>\n      <td>0.199619</td>\n      <td>0.032846</td>\n      <td>-0.002306</td>\n      <td>0.038938</td>\n      <td>0.046378</td>\n      <td>0.044377</td>\n    </tr>\n    <tr>\n      <th>WEATHER</th>\n      <td>0.039505</td>\n      <td>1.000000</td>\n      <td>0.044347</td>\n      <td>0.801087</td>\n      <td>0.184243</td>\n      <td>0.123741</td>\n      <td>-0.007697</td>\n      <td>0.018167</td>\n    </tr>\n    <tr>\n      <th>ADDRTYPE</th>\n      <td>0.199619</td>\n      <td>0.044347</td>\n      <td>1.000000</td>\n      <td>0.036711</td>\n      <td>-0.008643</td>\n      <td>-0.058017</td>\n      <td>-0.073325</td>\n      <td>-0.041532</td>\n    </tr>\n    <tr>\n      <th>ROADCOND</th>\n      <td>0.032846</td>\n      <td>0.801087</td>\n      <td>0.036711</td>\n      <td>1.000000</td>\n      <td>0.193327</td>\n      <td>0.149233</td>\n      <td>-0.013966</td>\n      <td>0.021140</td>\n    </tr>\n    <tr>\n      <th>LIGHTCOND</th>\n      <td>-0.002306</td>\n      <td>0.184243</td>\n      <td>-0.008643</td>\n      <td>0.193327</td>\n      <td>1.000000</td>\n      <td>0.093711</td>\n      <td>-0.036393</td>\n      <td>0.220734</td>\n    </tr>\n    <tr>\n      <th>SPEEDING</th>\n      <td>0.038938</td>\n      <td>0.123741</td>\n      <td>-0.058017</td>\n      <td>0.149233</td>\n      <td>0.093711</td>\n      <td>1.000000</td>\n      <td>-0.048805</td>\n      <td>0.092356</td>\n    </tr>\n    <tr>\n      <th>INATTENTIONIND</th>\n      <td>0.046378</td>\n      <td>-0.007697</td>\n      <td>-0.073325</td>\n      <td>-0.013966</td>\n      <td>-0.036393</td>\n      <td>-0.048805</td>\n      <td>1.000000</td>\n      <td>-0.025953</td>\n    </tr>\n    <tr>\n      <th>UNDERINFL</th>\n      <td>0.044377</td>\n      <td>0.018167</td>\n      <td>-0.041532</td>\n      <td>0.021140</td>\n      <td>0.220734</td>\n      <td>0.092356</td>\n      <td>-0.025953</td>\n      <td>1.000000</td>\n    </tr>\n  </tbody>\n</table>\n</div>"
                    },
                    "metadata": {}
                }
            ]
        },
        {
            "metadata": {},
            "cell_type": "code",
            "source": "X = dfw[['WEATHER', 'ADDRTYPE', 'ROADCOND','LIGHTCOND','SPEEDING','INATTENTIONIND','UNDERINFL']]\nX[0:5]",
            "execution_count": 23,
            "outputs": [
                {
                    "output_type": "execute_result",
                    "execution_count": 23,
                    "data": {
                        "text/plain": "   WEATHER  ADDRTYPE  ROADCOND  LIGHTCOND  SPEEDING  INATTENTIONIND  UNDERINFL\n0      1.0       2.0       2.0        0.0         0               0        0.0\n1      3.0       1.0       2.0        1.0         0               0        0.0\n2      1.0       1.0       0.0        0.0         0               0        0.0\n3      0.0       1.0       0.0        0.0         0               0        0.0\n4      3.0       2.0       2.0        0.0         0               0        0.0",
                        "text/html": "<div>\n<style scoped>\n    .dataframe tbody tr th:only-of-type {\n        vertical-align: middle;\n    }\n\n    .dataframe tbody tr th {\n        vertical-align: top;\n    }\n\n    .dataframe thead th {\n        text-align: right;\n    }\n</style>\n<table border=\"1\" class=\"dataframe\">\n  <thead>\n    <tr style=\"text-align: right;\">\n      <th></th>\n      <th>WEATHER</th>\n      <th>ADDRTYPE</th>\n      <th>ROADCOND</th>\n      <th>LIGHTCOND</th>\n      <th>SPEEDING</th>\n      <th>INATTENTIONIND</th>\n      <th>UNDERINFL</th>\n    </tr>\n  </thead>\n  <tbody>\n    <tr>\n      <th>0</th>\n      <td>1.0</td>\n      <td>2.0</td>\n      <td>2.0</td>\n      <td>0.0</td>\n      <td>0</td>\n      <td>0</td>\n      <td>0.0</td>\n    </tr>\n    <tr>\n      <th>1</th>\n      <td>3.0</td>\n      <td>1.0</td>\n      <td>2.0</td>\n      <td>1.0</td>\n      <td>0</td>\n      <td>0</td>\n      <td>0.0</td>\n    </tr>\n    <tr>\n      <th>2</th>\n      <td>1.0</td>\n      <td>1.0</td>\n      <td>0.0</td>\n      <td>0.0</td>\n      <td>0</td>\n      <td>0</td>\n      <td>0.0</td>\n    </tr>\n    <tr>\n      <th>3</th>\n      <td>0.0</td>\n      <td>1.0</td>\n      <td>0.0</td>\n      <td>0.0</td>\n      <td>0</td>\n      <td>0</td>\n      <td>0.0</td>\n    </tr>\n    <tr>\n      <th>4</th>\n      <td>3.0</td>\n      <td>2.0</td>\n      <td>2.0</td>\n      <td>0.0</td>\n      <td>0</td>\n      <td>0</td>\n      <td>0.0</td>\n    </tr>\n  </tbody>\n</table>\n</div>"
                    },
                    "metadata": {}
                }
            ]
        },
        {
            "metadata": {},
            "cell_type": "code",
            "source": "y = df['SEVERITYCODE'].values\ny[0:5]",
            "execution_count": 24,
            "outputs": [
                {
                    "output_type": "execute_result",
                    "execution_count": 24,
                    "data": {
                        "text/plain": "array([2, 1, 1, 1, 2])"
                    },
                    "metadata": {}
                }
            ]
        },
        {
            "metadata": {},
            "cell_type": "code",
            "source": "X= preprocessing.StandardScaler().fit(X).transform(X)\nX[0:5]",
            "execution_count": 25,
            "outputs": [
                {
                    "output_type": "stream",
                    "text": "/opt/conda/envs/Python36/lib/python3.6/site-packages/sklearn/preprocessing/data.py:645: DataConversionWarning: Data with input dtype int64, float64 were all converted to float64 by StandardScaler.\n  return self.partial_fit(X, y)\n/opt/conda/envs/Python36/lib/python3.6/site-packages/ipykernel/__main__.py:1: DataConversionWarning: Data with input dtype int64, float64 were all converted to float64 by StandardScaler.\n  if __name__ == '__main__':\n",
                    "name": "stderr"
                },
                {
                    "output_type": "execute_result",
                    "execution_count": 25,
                    "data": {
                        "text/plain": "array([[ 0.28689264,  1.39942178,  1.67081866, -0.64628611, -0.22440165,\n        -0.42518348, -0.2217116 ],\n       [ 2.05545297, -0.69049979,  1.67081866,  1.36980965, -0.22440165,\n        -0.42518348, -0.2217116 ],\n       [ 0.28689264, -0.69049979, -0.58486822, -0.64628611, -0.22440165,\n        -0.42518348, -0.2217116 ],\n       [-0.59738753, -0.69049979, -0.58486822, -0.64628611, -0.22440165,\n        -0.42518348, -0.2217116 ],\n       [ 2.05545297,  1.39942178,  1.67081866, -0.64628611, -0.22440165,\n        -0.42518348, -0.2217116 ]])"
                    },
                    "metadata": {}
                }
            ]
        },
        {
            "metadata": {},
            "cell_type": "code",
            "source": "from sklearn.model_selection import train_test_split\nX_train, X_test, y_train, y_test = train_test_split(X,y,test_size=0.2, random_state=4)\nprint ('Train set:', X_train.shape,  y_train.shape)\nprint ('Test set:', X_test.shape,  y_test.shape)",
            "execution_count": 26,
            "outputs": [
                {
                    "output_type": "stream",
                    "text": "Train set: (155738, 7) (155738,)\nTest set: (38935, 7) (38935,)\n",
                    "name": "stdout"
                }
            ]
        },
        {
            "metadata": {},
            "cell_type": "code",
            "source": "from sklearn.linear_model import LogisticRegression\nfrom sklearn.metrics import confusion_matrix\nLR = LogisticRegression(C=0.01, solver='liblinear').fit(X_train,y_train)\nLR",
            "execution_count": 29,
            "outputs": [
                {
                    "output_type": "execute_result",
                    "execution_count": 29,
                    "data": {
                        "text/plain": "LogisticRegression(C=0.01, class_weight=None, dual=False, fit_intercept=True,\n          intercept_scaling=1, max_iter=100, multi_class='warn',\n          n_jobs=None, penalty='l2', random_state=None, solver='liblinear',\n          tol=0.0001, verbose=0, warm_start=False)"
                    },
                    "metadata": {}
                }
            ]
        },
        {
            "metadata": {},
            "cell_type": "code",
            "source": "from sklearn.tree import DecisionTreeClassifier\ndTree = DecisionTreeClassifier(criterion=\"entropy\", max_depth = 5)\ndTree.fit(X,y)",
            "execution_count": 36,
            "outputs": [
                {
                    "output_type": "execute_result",
                    "execution_count": 36,
                    "data": {
                        "text/plain": "DecisionTreeClassifier(class_weight=None, criterion='entropy', max_depth=5,\n            max_features=None, max_leaf_nodes=None,\n            min_impurity_decrease=0.0, min_impurity_split=None,\n            min_samples_leaf=1, min_samples_split=2,\n            min_weight_fraction_leaf=0.0, presort=False, random_state=None,\n            splitter='best')"
                    },
                    "metadata": {}
                }
            ]
        },
        {
            "metadata": {},
            "cell_type": "code",
            "source": "from sklearn.metrics import jaccard_similarity_score\nfrom sklearn.metrics import f1_score\nfrom sklearn.metrics import log_loss",
            "execution_count": 17,
            "outputs": []
        },
        {
            "metadata": {},
            "cell_type": "code",
            "source": "LR_report=[0,0,0]\n\nLR_report[0]= jaccard_similarity_score(y_test, LR.predict(X_test))\nLR_report[1]= f1_score(y_test, LR.predict(X_test), average='weighted')\nLR_report[2]= log_loss(y_test, LR.predict_proba(X_test))\nLR_report\n",
            "execution_count": 19,
            "outputs": [
                {
                    "output_type": "execute_result",
                    "execution_count": 19,
                    "data": {
                        "text/plain": "[0.697341723385129, 0.6130074771702985, 0.5835203593850214]"
                    },
                    "metadata": {}
                }
            ]
        },
        {
            "metadata": {},
            "cell_type": "code",
            "source": "dTree_report=[0,0,0]\n\ndTree_report[0]= jaccard_similarity_score(y_test, dTree.predict(X_test))\ndTree_report[1]= f1_score(y_test, dTree.predict(X_test), average='weighted')\ndTree_report\n",
            "execution_count": 35,
            "outputs": [
                {
                    "output_type": "execute_result",
                    "execution_count": 35,
                    "data": {
                        "text/plain": "[0.7046872993450622, 0.5949603976869924, 0]"
                    },
                    "metadata": {}
                }
            ]
        },
        {
            "metadata": {},
            "cell_type": "code",
            "source": "LR",
            "execution_count": 38,
            "outputs": [
                {
                    "output_type": "execute_result",
                    "execution_count": 38,
                    "data": {
                        "text/plain": "LogisticRegression(C=0.01, class_weight=None, dual=False, fit_intercept=True,\n          intercept_scaling=1, max_iter=100, multi_class='warn',\n          n_jobs=None, penalty='l2', random_state=None, solver='liblinear',\n          tol=0.0001, verbose=0, warm_start=False)"
                    },
                    "metadata": {}
                }
            ]
        },
        {
            "metadata": {},
            "cell_type": "code",
            "source": "",
            "execution_count": null,
            "outputs": []
        }
    ],
    "metadata": {
        "kernelspec": {
            "name": "python3",
            "display_name": "Python 3.6",
            "language": "python"
        },
        "language_info": {
            "name": "python",
            "version": "3.6.9",
            "mimetype": "text/x-python",
            "codemirror_mode": {
                "name": "ipython",
                "version": 3
            },
            "pygments_lexer": "ipython3",
            "nbconvert_exporter": "python",
            "file_extension": ".py"
        }
    },
    "nbformat": 4,
    "nbformat_minor": 1
}